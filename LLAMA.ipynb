{
  "nbformat": 4,
  "nbformat_minor": 0,
  "metadata": {
    "colab": {
      "provenance": [],
      "gpuType": "T4",
      "authorship_tag": "ABX9TyMAbX8X3JQ8f24IPqqYh68v",
      "include_colab_link": true
    },
    "kernelspec": {
      "name": "python3",
      "display_name": "Python 3"
    },
    "language_info": {
      "name": "python"
    },
    "accelerator": "GPU"
  },
  "cells": [
    {
      "cell_type": "markdown",
      "metadata": {
        "id": "view-in-github",
        "colab_type": "text"
      },
      "source": [
        "<a href=\"https://colab.research.google.com/github/jkyalo-go/llama/blob/main/LLAMA.ipynb\" target=\"_parent\"><img src=\"https://colab.research.google.com/assets/colab-badge.svg\" alt=\"Open In Colab\"/></a>"
      ]
    },
    {
      "cell_type": "code",
      "execution_count": null,
      "metadata": {
        "id": "QOPgpWIWHtHV"
      },
      "outputs": [],
      "source": [
        "!git clone https://github.com/facebookresearch/llama.git"
      ]
    },
    {
      "cell_type": "code",
      "source": [
        "!bash llama/download.sh"
      ],
      "metadata": {
        "id": "bnpcfi2KIp5Z"
      },
      "execution_count": null,
      "outputs": []
    },
    {
      "cell_type": "code",
      "source": [
        "!pip install -r llama/requirements.txt"
      ],
      "metadata": {
        "id": "-IxZ4_exMf1l"
      },
      "execution_count": null,
      "outputs": []
    },
    {
      "cell_type": "code",
      "source": [
        "!python llama/setup.py build"
      ],
      "metadata": {
        "colab": {
          "base_uri": "https://localhost:8080/"
        },
        "id": "qD8wozcURu8s",
        "outputId": "cd62de5f-0319-498c-a7d4-f062c243056d"
      },
      "execution_count": 5,
      "outputs": [
        {
          "output_type": "stream",
          "name": "stdout",
          "text": [
            "running build\n"
          ]
        }
      ]
    },
    {
      "cell_type": "code",
      "source": [
        "!python llama/setup.py install"
      ],
      "metadata": {
        "id": "J69bq3ODSl3_"
      },
      "execution_count": null,
      "outputs": []
    },
    {
      "cell_type": "code",
      "source": [
        "!python -m torch.distributed.launch llama/example_chat_completion.py"
      ],
      "metadata": {
        "id": "_BMZgf9fdIE1"
      },
      "execution_count": null,
      "outputs": []
    }
  ]
}