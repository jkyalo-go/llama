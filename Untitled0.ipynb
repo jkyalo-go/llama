{
  "nbformat": 4,
  "nbformat_minor": 0,
  "metadata": {
    "colab": {
      "provenance": [],
      "gpuType": "T4",
      "authorship_tag": "ABX9TyOYT9NX3gOtD1t6ykurE1fd",
      "include_colab_link": true
    },
    "kernelspec": {
      "name": "python3",
      "display_name": "Python 3"
    },
    "language_info": {
      "name": "python"
    },
    "accelerator": "GPU"
  },
  "cells": [
    {
      "cell_type": "markdown",
      "metadata": {
        "id": "view-in-github",
        "colab_type": "text"
      },
      "source": [
        "<a href=\"https://colab.research.google.com/github/jkyalo-go/llama/blob/main/Untitled0.ipynb\" target=\"_parent\"><img src=\"https://colab.research.google.com/assets/colab-badge.svg\" alt=\"Open In Colab\"/></a>"
      ]
    },
    {
      "cell_type": "code",
      "execution_count": null,
      "metadata": {
        "id": "-aoaw0zcyqTj"
      },
      "outputs": [],
      "source": [
        "!git clone https://github.com/facebookresearch/llama.git"
      ]
    },
    {
      "cell_type": "code",
      "source": [
        "!cd llama;bash download.sh"
      ],
      "metadata": {
        "id": "OkXZQJDqzgVf"
      },
      "execution_count": null,
      "outputs": []
    },
    {
      "cell_type": "code",
      "source": [
        "pip install -r llama/requirements.txt"
      ],
      "metadata": {
        "id": "CuC57SMi01Uu"
      },
      "execution_count": null,
      "outputs": []
    },
    {
      "cell_type": "code",
      "source": [
        "!cd llama;python example_chat_completion.py /content/llama/llama-2-7b-chat /content/llama/llama/llama/tokenizer.py --temperature 0.7 --top_p 0.9 --max_seq_len 512 --max_batch_size 8 --max_gen_len 150"
      ],
      "metadata": {
        "colab": {
          "base_uri": "https://localhost:8080/"
        },
        "id": "mFCuxO5x1L_U",
        "outputId": "8b8bb498-646a-456c-f466-92d4c631b1e4"
      },
      "execution_count": 15,
      "outputs": [
        {
          "output_type": "stream",
          "name": "stdout",
          "text": [
            "Traceback (most recent call last):\n",
            "  File \"/content/llama/example_chat_completion.py\", line 89, in <module>\n",
            "    fire.Fire(main)\n",
            "  File \"/usr/local/lib/python3.10/dist-packages/fire/core.py\", line 141, in Fire\n",
            "    component_trace = _Fire(component, args, parsed_flag_args, context, name)\n",
            "  File \"/usr/local/lib/python3.10/dist-packages/fire/core.py\", line 475, in _Fire\n",
            "    component, remaining_args = _CallAndUpdateTrace(\n",
            "  File \"/usr/local/lib/python3.10/dist-packages/fire/core.py\", line 691, in _CallAndUpdateTrace\n",
            "    component = fn(*varargs, **kwargs)\n",
            "  File \"/content/llama/example_chat_completion.py\", line 20, in main\n",
            "    generator = Llama.build(\n",
            "  File \"/content/llama/llama/generation.py\", line 61, in build\n",
            "    torch.distributed.init_process_group(\"nccl\")\n",
            "  File \"/usr/local/lib/python3.10/dist-packages/torch/distributed/distributed_c10d.py\", line 900, in init_process_group\n",
            "    store, rank, world_size = next(rendezvous_iterator)\n",
            "  File \"/usr/local/lib/python3.10/dist-packages/torch/distributed/rendezvous.py\", line 235, in _env_rendezvous_handler\n",
            "    rank = int(_get_env_or_raise(\"RANK\"))\n",
            "  File \"/usr/local/lib/python3.10/dist-packages/torch/distributed/rendezvous.py\", line 220, in _get_env_or_raise\n",
            "    raise _env_error(env_var)\n",
            "ValueError: Error initializing torch.distributed using env:// rendezvous: environment variable RANK expected, but not set\n"
          ]
        }
      ]
    }
  ]
}